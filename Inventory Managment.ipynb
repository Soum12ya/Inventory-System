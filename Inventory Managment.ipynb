{
 "cells": [
  {
   "cell_type": "markdown",
   "id": "3baf4357",
   "metadata": {},
   "source": [
    "## Product Details\n",
    "1. Product ID\n",
    "2. Name of Product\n",
    "3. Price of product\n",
    "4. Quantity"
   ]
  },
  {
   "cell_type": "code",
   "execution_count": 46,
   "id": "39dc2556",
   "metadata": {},
   "outputs": [
    {
     "name": "stdout",
     "output_type": "stream",
     "text": [
      "Enter your Name : anu\n",
      "Enter your Phone No : 782451627\n",
      "Enter Email Id : anu@gmail.com\n",
      "Enter product ID : 2\n",
      "Enter product Quantity : 100\n",
      "Sorry, we're not having enough quantity.\n",
      "We're having only 97 quantity.\n",
      "Would you like to purchase it?\n",
      "Press Y/Ny\n",
      "----------------------------------\n",
      "Product Name     :  Dairy Milk\n",
      "price            :  10\n",
      "Quantity         :  97\n",
      "-----------------------------------\n",
      "Billing Amount   :  970\n",
      "----------------------------------\n",
      "------------------\n",
      "Inventory Updated\n"
     ]
    }
   ],
   "source": [
    "# Noting the time of transaction\n",
    "import time\n",
    "\n",
    "# Reading the Inventory\n",
    "fd = open('Inventory.txt','r')\n",
    "products= fd.read().split('\\n')\n",
    "fd.close()\n",
    "\n",
    "# Taking user input \n",
    "ui_username = input(\"Enter your Name : \")\n",
    "ui_phone    = input(\"Enter your Phone No : \")\n",
    "ui_mail     = input(\"Enter Email Id : \")\n",
    "ui_prod_id  = input(\"Enter product ID : \")\n",
    "ui_prod_qn  = input(\"Enter product Quantity : \")\n",
    "\n",
    "updated_product_lst = []\n",
    "   \n",
    "# Going through each product detail  \n",
    "for product in products:\n",
    "    \n",
    "    prod_details = product.split(',')\n",
    "    \n",
    "    if(prod_details[0] == ui_prod_id):\n",
    "    # Checking if the product exists or not    \n",
    "        \n",
    "        if(int(ui_prod_qn) <= int(prod_details[3])):\n",
    "        # If we're having enough quantity\n",
    "            \n",
    "            print(\"----------------------------------\")\n",
    "            print(\"Product Name     : \", prod_details[1])\n",
    "            print(\"price            : \", prod_details[2])\n",
    "            print(\"Quantity         : \", ui_prod_qn)\n",
    "            print(\"-----------------------------------\")\n",
    "            print(\"Billing Amount   : \", int(ui_prod_qn) * int(prod_details[2]))\n",
    "            print(\"----------------------------------\")\n",
    "        \n",
    "            # Updating Inventory List\n",
    "            prod_details[3] = str(int(prod_details[3]) - int(ui_prod_qn))\n",
    "            \n",
    "            \n",
    "            # Generating Sales in Sales.txt\n",
    "            fd = open(\"Sales.txt\", 'a')\n",
    "            sales_detail = ui_username +\",\"+ ui_phone +\",\"+ ui_mail +\",\"+ prod_details[1] +\",\"+ ui_prod_id +\",\"+ ui_prod_qn +\",\"+ str(int(ui_prod_qn) * int(prod_details[2])) +\",\"+ time.ctime() +\"\\n\"\n",
    "            fd.write(sales_detail)\n",
    "            fd.close()\n",
    "            \n",
    "            \n",
    "        else:\n",
    "        #  If we're not having enough quantity   \n",
    "        \n",
    "            print(\"Sorry, we're not having enough quantity.\")\n",
    "            print(\"We're having only\",prod_details[3],'quantity.')\n",
    "            print(\"Would you like to purchase it?\")\n",
    "            \n",
    "            ch = input(\"Press Y/N\")\n",
    "            \n",
    "            if(ch == 'Y' or ch == 'y'):\n",
    "            # If you want to purchase with remaining quantity\n",
    "            \n",
    "                    print(\"----------------------------------\")\n",
    "                    print(\"Product Name     : \", prod_details[1])\n",
    "                    print(\"price            : \", prod_details[2])\n",
    "                    print(\"Quantity         : \", prod_details[3])\n",
    "                    print(\"-----------------------------------\")\n",
    "                    print(\"Billing Amount   : \", int(prod_details[3])* int(prod_details[2]))\n",
    "                    print(\"----------------------------------\")\n",
    "                    \n",
    "                    \n",
    "                    # Generating Sales in Sales.txt\n",
    "                    fd = open(\"Sales.txt\", 'a')\n",
    "                    sales_detail = ui_username +\",\"+ ui_phone +\",\"+ ui_mail +\",\"+ prod_details[1] +\",\"+ ui_prod_id +\",\"+ prod_details[3] +\",\"+ str(int(prod_details[3])* int(prod_details[2])) +\",\"+ time.ctime() +\"\\n\"\n",
    "                    fd.write(sales_detail)\n",
    "                    fd.close()\n",
    "                    \n",
    "                    # Updating Inventory List\n",
    "                    prod_details[3] = '0'\n",
    "        \n",
    "            else:\n",
    "                print(\"Thanks\")\n",
    "                \n",
    "    # Updating my Inventory list    \n",
    "    updated_product_lst.append(prod_details) \n",
    "\n",
    "lst = []\n",
    "\n",
    "# Updating my Inventory String\n",
    "for i in updated_product_lst:\n",
    "    prod = i[0] +\",\" + i[1] +\",\" + i[2] +\",\" + i[3] + '\\n'\n",
    "    lst.append(prod)\n",
    "\n",
    "lst[-1] = lst[-1][:-1]       \n",
    "    \n",
    "# Updating my Inventory file    \n",
    "fd = open('Inventory.txt','w')\n",
    "\n",
    "for i in lst:\n",
    "    fd.write(i)\n",
    "    \n",
    "fd.close()\n",
    "print(\"------------------\")\n",
    "print(\"Inventory Updated\")"
   ]
  },
  {
   "cell_type": "code",
   "execution_count": 39,
   "id": "cf4811a6",
   "metadata": {},
   "outputs": [],
   "source": [
    "import time"
   ]
  },
  {
   "cell_type": "code",
   "execution_count": 40,
   "id": "a6be64c4",
   "metadata": {},
   "outputs": [
    {
     "data": {
      "text/plain": [
       "'Thu Jun  6 16:02:13 2024'"
      ]
     },
     "execution_count": 40,
     "metadata": {},
     "output_type": "execute_result"
    }
   ],
   "source": [
    "time.ctime()"
   ]
  }
 ],
 "metadata": {
  "kernelspec": {
   "display_name": "Python 3 (ipykernel)",
   "language": "python",
   "name": "python3"
  },
  "language_info": {
   "codemirror_mode": {
    "name": "ipython",
    "version": 3
   },
   "file_extension": ".py",
   "mimetype": "text/x-python",
   "name": "python",
   "nbconvert_exporter": "python",
   "pygments_lexer": "ipython3",
   "version": "3.11.7"
  }
 },
 "nbformat": 4,
 "nbformat_minor": 5
}
